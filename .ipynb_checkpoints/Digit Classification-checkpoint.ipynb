{
 "cells": [
  {
   "cell_type": "markdown",
   "metadata": {},
   "source": [
    "# Digit Classification with KNN and Naive Bayes\n",
    "By: Angela Gao (angelazgao@gmail.com)"
   ]
  },
  {
   "cell_type": "code",
   "execution_count": 1,
   "metadata": {},
   "outputs": [],
   "source": [
    "# This tells matplotlib not to try opening a new window for each plot.\n",
    "%matplotlib inline\n",
    "\n",
    "# Import a bunch of libraries.\n",
    "import time\n",
    "import numpy as np\n",
    "import matplotlib.pyplot as plt\n",
    "from matplotlib.ticker import MultipleLocator\n",
    "from sklearn.pipeline import Pipeline\n",
    "from sklearn.datasets import fetch_openml\n",
    "from sklearn.neighbors import KNeighborsClassifier\n",
    "from sklearn.metrics import confusion_matrix\n",
    "from sklearn.linear_model import LinearRegression\n",
    "from sklearn.naive_bayes import BernoulliNB\n",
    "from sklearn.naive_bayes import MultinomialNB\n",
    "from sklearn.naive_bayes import GaussianNB\n",
    "from sklearn.model_selection import GridSearchCV\n",
    "from sklearn.metrics import classification_report\n",
    "import math\n",
    "\n",
    "# Set the randomizer seed so results are the same each time.\n",
    "np.random.seed(0)"
   ]
  },
  {
   "cell_type": "code",
   "execution_count": 2,
   "metadata": {},
   "outputs": [
    {
     "name": "stdout",
     "output_type": "stream",
     "text": [
      "data shape:  (70000, 784)\n",
      "label shape: (70000,)\n"
     ]
    }
   ],
   "source": [
    "# Load the digit data from https://www.openml.org/d/554 or from default local location '~/scikit_learn_data/...'\n",
    "X, Y = fetch_openml(name='mnist_784', return_X_y=True, cache=False)\n",
    "\n",
    "\n",
    "# Rescale grayscale values to [0,1].\n",
    "X = X / 255.0\n",
    "\n",
    "# Shuffle the input: create a random permutation of the integers between 0 and the number of data points and apply this\n",
    "# permutation to X and Y.\n",
    "# NOTE: Each time you run this cell, you'll re-shuffle the data, resulting in a different ordering.\n",
    "shuffle = np.random.permutation(np.arange(X.shape[0]))\n",
    "X, Y = X[shuffle], Y[shuffle]\n",
    "\n",
    "print('data shape: ', X.shape)\n",
    "print('label shape:', Y.shape)\n",
    "\n",
    "# Set some variables to hold test, dev, and training data.\n",
    "test_data, test_labels = X[61000:], Y[61000:]\n",
    "dev_data, dev_labels = X[60000:61000], Y[60000:61000]\n",
    "train_data, train_labels = X[:60000], Y[:60000]\n",
    "mini_train_data, mini_train_labels = X[:1000], Y[:1000]"
   ]
  },
  {
   "cell_type": "markdown",
   "metadata": {},
   "source": [
    "### Visualize some sample digits in a grid"
   ]
  },
  {
   "cell_type": "code",
   "execution_count": 3,
   "metadata": {},
   "outputs": [
    {
     "data": {
      "image/png": "[encoded data removed]",
      "text/plain": [
       "<Figure size 432x288 with 100 Axes>"
      ]
     },
     "metadata": {
      "needs_background": "light"
     },
     "output_type": "display_data"
    }
   ],
   "source": [
    "def plot_examples(num_examples=10):\n",
    "\n",
    "    #ten samples of each digit type\n",
    "    arr = []\n",
    "    for i in range(10):\n",
    "        arr.append(mini_train_data[mini_train_labels == str(i)][:num_examples])\n",
    "\n",
    "    #set up subplots\n",
    "    plt.rc('image',cmap='binary')\n",
    "    fig, ax = plt.subplots(nrows=10, ncols = num_examples)\n",
    "\n",
    "    #reshape feature vectors and render the matrices\n",
    "    i = 0\n",
    "    for row in arr:\n",
    "        for col in row:\n",
    "            a = col.reshape(-1,28)\n",
    "            ax[i//10,i%10].imshow(a)\n",
    "            ax[i//10,i%10].axis('off')\n",
    "            i += 1\n",
    "    plt.show()\n",
    "\n",
    "plot_examples(10)"
   ]
  },
  {
   "cell_type": "markdown",
   "metadata": {},
   "source": [
    "### K-Nearest Neighbors at various k-values"
   ]
  },
  {
   "cell_type": "code",
   "execution_count": 7,
   "metadata": {},
   "outputs": [
    {
     "name": "stdout",
     "output_type": "stream",
     "text": [
      "1-Nearest Neighbors Stats:\n",
      "              precision    recall  f1-score   support\n",
      "\n",
      "           0       0.95      0.95      0.95       106\n",
      "           1       0.89      0.98      0.93       118\n",
      "           2       0.90      0.79      0.84       106\n",
      "           3       0.93      0.87      0.90        97\n",
      "           4       0.91      0.85      0.88        92\n",
      "           5       0.86      0.88      0.87        88\n",
      "           6       0.92      0.92      0.92       102\n",
      "           7       0.85      0.94      0.89       102\n",
      "           8       0.83      0.77      0.80        94\n",
      "           9       0.80      0.86      0.83        95\n",
      "\n",
      "    accuracy                           0.88      1000\n",
      "   macro avg       0.88      0.88      0.88      1000\n",
      "weighted avg       0.89      0.88      0.88      1000\n",
      "\n",
      "k=1: Misclassified Cnt 116\n",
      "k=3: Misclassified Cnt 124\n",
      "k=5: Misclassified Cnt 118\n",
      "k=7: Misclassified Cnt 123\n",
      "k=9: Misclassified Cnt 125\n"
     ]
    }
   ],
   "source": [
    "def run_knn(k_values):\n",
    "    \n",
    "    print(\"1-Nearest Neighbors Stats:\")\n",
    "    \n",
    "    # performance of k-nearest neighbor at varying k \n",
    "    for k in k_values:\n",
    "        mod = KNeighborsClassifier(k)\n",
    "        mod.fit(mini_train_data, mini_train_labels)\n",
    "        pred_labels = mod.predict(dev_data)\n",
    "        \n",
    "        # fit k=1 and get precision, recall, and F1\n",
    "        if k == 1:\n",
    "            print(classification_report(dev_labels, pred_labels))\n",
    "            \n",
    "        print('k=%d: Misclassified Cnt' % k, sum(pred_labels != dev_labels))\n",
    "\n",
    "k_values = [1, 3, 5, 7, 9]\n",
    "run_knn(k_values)"
   ]
  },
  {
   "cell_type": "markdown",
   "metadata": {},
   "source": [
    "### 1-Nearest Neighbors at various training sizes"
   ]
  },
  {
   "cell_type": "code",
   "execution_count": 8,
   "metadata": {},
   "outputs": [
    {
     "name": "stdout",
     "output_type": "stream",
     "text": [
      "Training data size 100: Misclassified = 298 | Time = 0.13794827461242676\n",
      "Training data size 200: Misclassified = 209 | Time = 0.23318195343017578\n",
      "Training data size 400: Misclassified = 189 | Time = 0.4753689765930176\n",
      "Training data size 800: Misclassified = 134 | Time = 1.0407938957214355\n",
      "Training data size 1600: Misclassified = 95 | Time = 1.9597280025482178\n",
      "Training data size 3200: Misclassified = 73 | Time = 4.5572569370269775\n",
      "Training data size 6400: Misclassified = 61 | Time = 7.529912948608398\n",
      "Training data size 12800: Misclassified = 48 | Time = 15.754199743270874\n",
      "Training data size 25600: Misclassified = 37 | Time = 34.2971670627594\n",
      "Accuracies = [0.7, 0.79, 0.81, 0.87, 0.91, 0.93, 0.94, 0.95, 0.96]\n"
     ]
    }
   ],
   "source": [
    "def run_1nn_t(train_sizes, accuracies):\n",
    "\n",
    "    # using four different training data sizes\n",
    "    for t in train_sizes:\n",
    "        t_data = train_data[:t]\n",
    "        t_labels = train_labels[:t]\n",
    "    \n",
    "        #model start time\n",
    "        start = time.time()\n",
    "    \n",
    "        #model fit and eval\n",
    "        mod = KNeighborsClassifier(1)\n",
    "        mod.fit(t_data, t_labels)\n",
    "        pred_labels = mod.predict(dev_data)\n",
    "    \n",
    "        #model run time\n",
    "        end = time.time()\n",
    "        elapse = end - start\n",
    "        \n",
    "        print('Training data size %d: Misclassified =' % t, sum(pred_labels != dev_labels), '| Time =', elapse)\n",
    "        accuracies.append(classification_report(dev_labels, pred_labels).replace(\" \",\"\")[-62:-58])\n",
    "\n",
    "    print('Accuracies =', [float(i) for i in accuracies])\n",
    "\n",
    "train_sizes = [100, 200, 400, 800, 1600, 3200, 6400, 12800, 25600]\n",
    "accuracies = []\n",
    "run_1nn_t(train_sizes, accuracies)"
   ]
  },
  {
   "cell_type": "markdown",
   "metadata": {},
   "source": [
    "### 1-Nearest Neighbors confusion matrix + missclassified examples"
   ]
  },
  {
   "cell_type": "code",
   "execution_count": 9,
   "metadata": {},
   "outputs": [
    {
     "name": "stdout",
     "output_type": "stream",
     "text": [
      "[[101   0   1   0   0   0   1   1   2   0]\n",
      " [  0 116   1   0   0   0   0   0   1   0]\n",
      " [  1   4  84   2   2   0   2   4   6   1]\n",
      " [  0   2   0  84   0   6   0   2   3   0]\n",
      " [  0   0   1   0  78   0   0   2   0  11]\n",
      " [  2   0   0   1   1  77   5   0   2   0]\n",
      " [  1   2   1   0   1   2  94   0   1   0]\n",
      " [  0   1   1   0   0   0   0  96   0   4]\n",
      " [  1   5   4   3   1   3   0   1  72   4]\n",
      " [  0   1   0   0   3   2   0   7   0  82]]\n"
     ]
    },
    {
     "data": {
      "image/png": "[encoded data removed]",
      "text/plain": [
       "<Figure size 432x288 with 11 Axes>"
      ]
     },
     "metadata": {
      "needs_background": "light"
     },
     "output_type": "display_data"
    }
   ],
   "source": [
    "def cc_miss():\n",
    "\n",
    "    #model fit and eval\n",
    "    mod = KNeighborsClassifier(1)\n",
    "    mod.fit(mini_train_data, mini_train_labels)\n",
    "    pred_labels = mod.predict(dev_data)\n",
    "    \n",
    "    #confusion matrix\n",
    "    conf = confusion_matrix(dev_labels, pred_labels)\n",
    "    print(conf)\n",
    "    \n",
    "    #after looking at confusion_matrix output\n",
    "    \n",
    "    #digit pairs with the greatest number of mistakes (4 <-> 9)\n",
    "    fig, ax = plt.subplots(11)\n",
    "    most = dev_data[np.logical_and(dev_labels == '4', pred_labels == '9')]\n",
    "    for i in range(len(most)):\n",
    "        a = most[i].reshape(-1,28)\n",
    "        ax[i].imshow(a)\n",
    "        ax[i].axis('off')\n",
    "\n",
    "cc_miss()"
   ]
  },
  {
   "cell_type": "markdown",
   "metadata": {},
   "source": [
    "### Applying a Gaussian blur"
   ]
  },
  {
   "cell_type": "code",
   "execution_count": 10,
   "metadata": {},
   "outputs": [],
   "source": [
    "#function to filter matrix and return filtered feature vector\n",
    "def blur_filter(img):\n",
    "    \n",
    "    output = np.zeros(img.shape)\n",
    "    \n",
    "    #grab surrounding 9 pixels \n",
    "    for i in range(1, img.shape[0]-1):\n",
    "        for j in range(1, img.shape[1]-1):\n",
    "            surround = img[i-1:i+2, j-1:j+2]\n",
    "            \n",
    "            #take the average and insert into output\n",
    "            s = surround.flatten() / 9 \n",
    "            output[i,j] = s.sum()\n",
    "    \n",
    "    #return filtered feature vector \n",
    "    return output.flatten()"
   ]
  },
  {
   "cell_type": "code",
   "execution_count": 11,
   "metadata": {},
   "outputs": [
    {
     "name": "stdout",
     "output_type": "stream",
     "text": [
      "Filtered training set: Misclassified = 93 | Accuracy = 0.91\n",
      "Filtered dev data set: Misclassified = 132 | Accuracy = 0.87\n",
      "Filtered training & dev: Misclassified = 95 | Accuracy = 0.91\n"
     ]
    }
   ],
   "source": [
    "def with_blur():\n",
    "    \n",
    "    mini_train_filter = []\n",
    "    dev_data_filter = []\n",
    "    \n",
    "    #use blur_filter on training and dev data\n",
    "    for i in range(1000):\n",
    "        mini_train_filter.append(blur_filter(mini_train_data[i].reshape(-1,28)))\n",
    "        dev_data_filter.append(blur_filter(dev_data[i].reshape(-1,28)))\n",
    "    \n",
    "    ######## filter training only classifier\n",
    "    mod1 = KNeighborsClassifier(1)\n",
    "    mod1.fit(mini_train_filter, mini_train_labels)\n",
    "    pred1 = mod1.predict(dev_data)\n",
    "    \n",
    "    ######## filter dev only classifier\n",
    "    mod2 = KNeighborsClassifier(1)\n",
    "    mod2.fit(mini_train_data, mini_train_labels)\n",
    "    pred2 = mod2.predict(dev_data_filter)\n",
    "    \n",
    "    ######## filter training and dev classifier\n",
    "    mod3 = KNeighborsClassifier(1)\n",
    "    mod3.fit(mini_train_filter, mini_train_labels)\n",
    "    pred3 = mod1.predict(dev_data_filter)\n",
    "    \n",
    "    print('Filtered training set: Misclassified =', sum(pred1 != dev_labels), '| Accuracy =', classification_report(dev_labels, pred1).replace(\" \",\"\")[-62:-58])\n",
    "    print('Filtered dev data set: Misclassified =', sum(pred2 != dev_labels), '| Accuracy =', classification_report(dev_labels, pred2).replace(\" \",\"\")[-62:-58])\n",
    "    print('Filtered training & dev: Misclassified =', sum(pred3 != dev_labels), '| Accuracy =', classification_report(dev_labels, pred3).replace(\" \",\"\")[-62:-58])\n",
    "\n",
    "\n",
    "with_blur()"
   ]
  },
  {
   "cell_type": "markdown",
   "metadata": {},
   "source": [
    "***\n",
    "### Bernoulli and Multimodal Naive Bayes"
   ]
  },
  {
   "cell_type": "code",
   "execution_count": 12,
   "metadata": {},
   "outputs": [
    {
     "name": "stdout",
     "output_type": "stream",
     "text": [
      "Bernoulli: Misclassified = 173 | Accuracy = 0.83\n",
      "Multinomial: Misclassified = 193 | Accuracy = 0.81\n"
     ]
    }
   ],
   "source": [
    "def ber_multi():\n",
    "\n",
    "    #binary model \n",
    "    mod1 = BernoulliNB(binarize = 0.3)\n",
    "    mod1.fit(mini_train_data, mini_train_labels)\n",
    "    pred1 = mod1.predict(dev_data)\n",
    "    \n",
    "    #pre-process training data to three categories\n",
    "    mini_train_multi = []\n",
    "    for i in range(1000):\n",
    "        multi_nom = []\n",
    "        for x in mini_train_data[i]:\n",
    "            if x <= 0.3:\n",
    "                multi_nom.append(0)\n",
    "            elif x >= 0.8:\n",
    "                multi_nom.append(2)\n",
    "            else:\n",
    "                multi_nom.append(1)\n",
    "        mini_train_multi.append(multi_nom)\n",
    "    \n",
    "    #multinomial model\n",
    "    mod2 = MultinomialNB()\n",
    "    mod2.fit(mini_train_data, mini_train_labels)\n",
    "    pred2 = mod2.predict(dev_data)\n",
    "    \n",
    "    print('Bernoulli: Misclassified =', sum(pred1 != dev_labels), '| Accuracy =', classification_report(dev_labels, pred1).replace(\" \",\"\")[-62:-58])\n",
    "    print('Multinomial: Misclassified =', sum(pred2 != dev_labels), '| Accuracy =', classification_report(dev_labels, pred2).replace(\" \",\"\")[-62:-58])\n",
    "\n",
    "ber_multi()"
   ]
  },
  {
   "cell_type": "markdown",
   "metadata": {},
   "source": [
    "### Vary Bernoulli LaPlace smoothing parameter"
   ]
  },
  {
   "cell_type": "code",
   "execution_count": 13,
   "metadata": {},
   "outputs": [
    {
     "name": "stdout",
     "output_type": "stream",
     "text": [
      "Accuracy:  [0.814 0.819 0.825 0.822 0.818 0.813 0.809 0.805 0.783]\n",
      "Best alpha =  {'alpha': 0.001}\n"
     ]
    }
   ],
   "source": [
    "def laplace(alphas):\n",
    "    \n",
    "    #evaluate performance of various alpha values\n",
    "    mod = BernoulliNB()\n",
    "    clf = GridSearchCV(mod, alphas)\n",
    "    return clf.fit(mini_train_data, mini_train_labels)\n",
    "    \n",
    "#print accuracy levels later on\n",
    "    \n",
    "### STUDENT END ###\n",
    "\n",
    "alphas = {'alpha': [1.0e-10, 0.0001, 0.001, 0.01, 0.1, 0.5, 1.0, 2.0, 10.0]}\n",
    "nb = laplace(alphas)\n",
    "print('Accuracy: ', nb.cv_results_['mean_test_score'])\n",
    "print(\"Best alpha = \", nb.best_params_)"
   ]
  },
  {
   "cell_type": "markdown",
   "metadata": {},
   "source": [
    "### Gaussian Naive Bayes"
   ]
  },
  {
   "cell_type": "code",
   "execution_count": 15,
   "metadata": {},
   "outputs": [
    {
     "name": "stdout",
     "output_type": "stream",
     "text": [
      "Gaussian Initial: Misclassified = 407 | Accuracy = 0.59\n",
      "Gaussian Smoothed: Misclassified = 184 | Accuracy = 0.82\n"
     ]
    }
   ],
   "source": [
    "def gaussian():\n",
    "\n",
    "    #initial no adjustment gaussian\n",
    "    mod1 = GaussianNB()\n",
    "    mod1.fit(mini_train_data, mini_train_labels)\n",
    "    pred1 = mod1.predict(dev_data)\n",
    "    print('Gaussian Initial: Misclassified =', sum(pred1 != dev_labels), '| Accuracy =', classification_report(dev_labels, pred1).replace(\" \",\"\")[-62:-58])\n",
    "    \n",
    "    #smoothed var adjusted gaussian\n",
    "    mod2 = GaussianNB(var_smoothing = 0.05)\n",
    "    mod2.fit(mini_train_data, mini_train_labels)\n",
    "    pred2 = mod2.predict(dev_data)\n",
    "    print('Gaussian Smoothed: Misclassified =', sum(pred2 != dev_labels), '| Accuracy =', classification_report(dev_labels, pred2).replace(\" \",\"\")[-62:-58])\n",
    "\n",
    "gaussian()"
   ]
  },
  {
   "cell_type": "markdown",
   "metadata": {},
   "source": [
    "### Using NB as generative model"
   ]
  },
  {
   "cell_type": "code",
   "execution_count": 16,
   "metadata": {},
   "outputs": [
    {
     "data": {
      "image/png": "[encoded data removed]",
      "text/plain": [
       "<Figure size 432x288 with 200 Axes>"
      ]
     },
     "metadata": {
      "needs_background": "light"
     },
     "output_type": "display_data"
    }
   ],
   "source": [
    "def generate(num_examples):\n",
    "\n",
    "    #set up subplots\n",
    "    plt.rc('image',cmap='binary')\n",
    "    fig, ax = plt.subplots(nrows=10, ncols = num_examples)\n",
    "\n",
    "    #bernoulli generative model for the probabilities\n",
    "    mod = BernoulliNB()\n",
    "    mod.fit(mini_train_data, mini_train_labels)\n",
    "    log_prob = mod.feature_log_prob_\n",
    "    \n",
    "    #compare random numbers with probabilities for binary features\n",
    "    for i in range(10):\n",
    "        pb = [np.exp(i) for i in log_prob[i]]\n",
    "        for j in range(num_examples):\n",
    "            rd = np.random.rand(784)\n",
    "            gen = []\n",
    "            for r,p in zip(rd, pb):\n",
    "                if r < p:\n",
    "                    gen.append(1)\n",
    "                else:\n",
    "                    gen.append(0)\n",
    "                    \n",
    "            #reshape and render the feature vectors\n",
    "            g = np.array(gen).reshape(-1,28)\n",
    "            ax[i,j].imshow(g)\n",
    "            ax[i,j].axis('off')\n",
    "                \n",
    "    plt.show()\n",
    "\n",
    "generate(20)"
   ]
  },
  {
   "cell_type": "markdown",
   "metadata": {},
   "source": [
    "### Evaluate Bernoulli NB Calibration"
   ]
  },
  {
   "cell_type": "code",
   "execution_count": 17,
   "metadata": {},
   "outputs": [
    {
     "name": "stdout",
     "output_type": "stream",
     "text": [
      "p(pred) is 0.0000000000000 to 0.5000000000000    total =   0    accuracy = 0.000\n",
      "p(pred) is 0.5000000000000 to 0.9000000000000    total =  31    accuracy = 0.355\n",
      "p(pred) is 0.9000000000000 to 0.9990000000000    total =  67    accuracy = 0.433\n",
      "p(pred) is 0.9990000000000 to 0.9999900000000    total =  59    accuracy = 0.458\n",
      "p(pred) is 0.9999900000000 to 0.9999999000000    total =  46    accuracy = 0.652\n",
      "p(pred) is 0.9999999000000 to 0.9999999990000    total =  62    accuracy = 0.774\n",
      "p(pred) is 0.9999999990000 to 0.9999999999900    total =  33    accuracy = 0.788\n",
      "p(pred) is 0.9999999999900 to 0.9999999999999    total =  43    accuracy = 0.791\n",
      "p(pred) is 0.9999999999999 to 1.0000000000000    total = 659    accuracy = 0.938\n"
     ]
    }
   ],
   "source": [
    "def calibrate(buckets, correct, total):\n",
    "    \n",
    "    #use bernoullinb to find maximum posterior probabilities \n",
    "    mod = BernoulliNB(alpha = 0.001)\n",
    "    mod.fit(mini_train_data, mini_train_labels)\n",
    "    post = [[i.max(), i.argmax(axis=0)] for i in mod.predict_proba(dev_data)]\n",
    "    \n",
    "    #partition into buckets \n",
    "    for i in range(1000): \n",
    "        index = [buckets.index(b) for b in buckets if b < post[i][0]]\n",
    "        \n",
    "        #update total and correct counters\n",
    "        total[index[-1]+1] += 1\n",
    "        if int(dev_labels[i]) == post[i][1]:\n",
    "            correct[index[-1]+1] += 1\n",
    "                \n",
    "\n",
    "\n",
    "buckets = [0.5, 0.9, 0.999, 0.99999, 0.9999999, 0.999999999, 0.99999999999, 0.9999999999999, 1.0]\n",
    "correct = [0 for i in buckets]\n",
    "total = [0 for i in buckets]\n",
    "\n",
    "calibrate(buckets, correct, total)\n",
    "\n",
    "for i in range(len(buckets)):\n",
    "    accuracy = 0.0\n",
    "    if (total[i] > 0): accuracy = correct[i] / total[i]\n",
    "    print('p(pred) is %.13f to %.13f    total = %3d    accuracy = %.3f' % (0 if i==0 else buckets[i-1], buckets[i], total[i], accuracy))"
   ]
  }
 ],
 "metadata": {
  "kernelspec": {
   "display_name": "Python 3",
   "language": "python",
   "name": "python3"
  },
  "language_info": {
   "codemirror_mode": {
    "name": "ipython",
    "version": 3
   },
   "file_extension": ".py",
   "mimetype": "text/x-python",
   "name": "python",
   "nbconvert_exporter": "python",
   "pygments_lexer": "ipython3",
   "version": "3.7.6"
  }
 },
 "nbformat": 4,
 "nbformat_minor": 4
}
